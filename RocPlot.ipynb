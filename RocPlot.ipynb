{
 "cells": [
  {
   "cell_type": "code",
   "execution_count": 10,
   "metadata": {},
   "outputs": [],
   "source": [
    "import math\n",
    "# import seaborn as sb\n",
    "import matplotlib.pyplot as plt\n",
    "import pandas as pd\n",
    "import numpy as np\n",
    "import copy"
   ]
  },
  {
   "cell_type": "code",
   "execution_count": 11,
   "metadata": {},
   "outputs": [],
   "source": [
    "def read_scores(path):\n",
    "    # 0: common family sequences, 1: not common family but common class sequences, 2: no common family and class\n",
    "    res = {0: [], 1: [], 2: []}\n",
    "    with open(path, 'r') as f:\n",
    "        all_cnt = 0; cnt1 = 0; cnt2 = 0\n",
    "        for line in f:\n",
    "            q, t, sc = map(str, line.split())\n",
    "            qs = q.split('|')[1].split(',')\n",
    "            ts = t.split('|')[1].split(',')\n",
    "            score = int(sc)\n",
    "            if set(qs).isdisjoint(ts):\n",
    "                qs2 = list(map(lambda x: x.split(\".\")[0], qs))\n",
    "                ts2 = list(map(lambda x: x.split(\".\")[0], ts))\n",
    "                if set(qs2).isdisjoint(ts2):\n",
    "                    cnt2 += 1\n",
    "                    res[2].append(score)\n",
    "                else:\n",
    "                    res[1].append(score)\n",
    "                cnt1 += 1\n",
    "            else:\n",
    "                res[0].append(score)\n",
    "            all_cnt += 1\n",
    "    return res, all_cnt, cnt1, cnt2\n",
    "prev_res = read_scores('TestSamples/sample_bench_output_prevsub.tsv')\n",
    "new_res = read_scores('TestSamples/sample_bench_output_newsub.tsv')"
   ]
  },
  {
   "cell_type": "code",
   "execution_count": 3,
   "metadata": {},
   "outputs": [],
   "source": [
    "mx = int(1e4)\n",
    "scale_div = math.log10(mx)\n",
    "def log_scale(score):\n",
    "    # >=10^5 -> 1, 1 -> 0\n",
    "    return math.log10(min(mx, score)) / scale_div\n",
    "\n",
    "def lin_scale(score):\n",
    "    return min(mx, score) / mx\n",
    "\n",
    "def log_scale_inv(value):\n",
    "    return 10 ** (scale_div * value)\n",
    "\n",
    "def lin_scale_inv(value):\n",
    "    return value * mx"
   ]
  },
  {
   "cell_type": "code",
   "execution_count": 14,
   "metadata": {},
   "outputs": [],
   "source": [
    "def plot_data(dict_data, map_func=log_scale, labels=[\"Same Family\", \"Same Class\", \"None!\"], xlim_range=None, save_fig=True, save_path='bench_hist.png'):\n",
    "    res = {k: list(map(lambda x: map_func(x), v)) for k, v in dict_data.items()}\n",
    "    for k in res.keys():\n",
    "        plt.hist(res[k], label=k, alpha=0.5)\n",
    "        if xlim_range:\n",
    "            plt.xlim(xlim_range)\n",
    "\n",
    "    plt.legend(labels)\n",
    "    if save_fig:\n",
    "        plt.savefig(save_path, bbox_inches='tight')\n",
    "    plt.show()\n"
   ]
  },
  {
   "cell_type": "code",
   "execution_count": 15,
   "metadata": {},
   "outputs": [
    {
     "data": {
      "image/png": "[encoded data removed]",
      "text/plain": [
       "<Figure size 432x288 with 1 Axes>"
      ]
     },
     "metadata": {
      "needs_background": "light"
     },
     "output_type": "display_data"
    }
   ],
   "source": [
    "plot_data(new_res[0], log_scale)"
   ]
  },
  {
   "cell_type": "code",
   "execution_count": 16,
   "metadata": {},
   "outputs": [
    {
     "data": {
      "image/png": "[encoded data removed]",
      "text/plain": [
       "<Figure size 432x288 with 1 Axes>"
      ]
     },
     "metadata": {
      "needs_background": "light"
     },
     "output_type": "display_data"
    }
   ],
   "source": [
    "plot_data(prev_res[0])"
   ]
  },
  {
   "cell_type": "code",
   "execution_count": 17,
   "metadata": {},
   "outputs": [
    {
     "data": {
      "image/png": "[encoded data removed]",
      "text/plain": [
       "<Figure size 432x288 with 1 Axes>"
      ]
     },
     "metadata": {
      "needs_background": "light"
     },
     "output_type": "display_data"
    }
   ],
   "source": [
    "plot_data(prev_res[0], lambda x: x, xlim_range=(1, 200))"
   ]
  },
  {
   "cell_type": "markdown",
   "metadata": {},
   "source": [
    "# ROC Curve"
   ]
  },
  {
   "cell_type": "code",
   "execution_count": 18,
   "metadata": {},
   "outputs": [],
   "source": [
    "def roc_plot(dict_data, map_func=log_scale, thr_num=50000, save_fig=True, save_path='roc.png'):\n",
    "    def rates(trues, falses, thr):\n",
    "        tpr = len(trues[trues > thr]) / len(trues)\n",
    "        fpr = len(falses[falses > thr]) / len(falses)\n",
    "        return tpr, fpr, thr\n",
    "\n",
    "    thresholds = np.linspace(0, 1, 50000)\n",
    "    tmp = copy.deepcopy(dict_data)\n",
    "    tmp[1] += tmp[2]\n",
    "\n",
    "    trues = np.array([map_func(score) for score in tmp[0]])\n",
    "    falses = np.array([map_func(score) for score in tmp[1]])\n",
    "\n",
    "    points = []\n",
    "    for thr in thresholds:\n",
    "        tmp1 = rates(trues, falses, thr)\n",
    "        points.append(tmp1)\n",
    "    pivot = pd.DataFrame(points, columns=[\"y\", \"x\", 'threshold'])\n",
    "    plt.plot(pivot.x, pivot.y)\n",
    "    plt.xlabel(\"False Positive Rate\")\n",
    "    plt.ylabel(\"True Positive Rate\")\n",
    "    if save_fig:\n",
    "        plt.savefig(save_path, bbox_inches='tight')\n",
    "    plt.show()\n",
    "    auc_score = round(abs(np.trapz(pivot.y, pivot.x)), 4)\n",
    "    return pivot, auc_score, points\n"
   ]
  },
  {
   "cell_type": "code",
   "execution_count": 19,
   "metadata": {},
   "outputs": [
    {
     "data": {
      "image/png": "[encoded data removed]",
      "text/plain": [
       "<Figure size 432x288 with 1 Axes>"
      ]
     },
     "metadata": {
      "needs_background": "light"
     },
     "output_type": "display_data"
    },
    {
     "data": {
      "text/plain": [
       "0.9731"
      ]
     },
     "execution_count": 19,
     "metadata": {},
     "output_type": "execute_result"
    }
   ],
   "source": [
    "pivot, auc_score, points = roc_plot(new_res[0], log_scale)\n",
    "auc_score"
   ]
  },
  {
   "cell_type": "markdown",
   "metadata": {},
   "source": [
    "# AUC Score"
   ]
  },
  {
   "cell_type": "code",
   "execution_count": 20,
   "metadata": {},
   "outputs": [
    {
     "data": {
      "text/plain": [
       "0.9731"
      ]
     },
     "execution_count": 20,
     "metadata": {},
     "output_type": "execute_result"
    }
   ],
   "source": [
    "round(abs(np.trapz(pivot.y, pivot.x)), 4)"
   ]
  },
  {
   "cell_type": "code",
   "execution_count": 21,
   "metadata": {},
   "outputs": [
    {
     "data": {
      "text/plain": [
       "[(0.8515156812487182, 153.98689065423062),\n",
       " (0.8515156812487182, 153.9585272658928),\n",
       " (0.8515156812487182, 153.93016910190732),\n",
       " (0.8515156812487182, 153.9018161613122),\n",
       " (0.8515156812487182, 153.87346844314507),\n",
       " (0.8515156812487182, 153.84512594644406),\n",
       " (0.8515156812487182, 153.81678867024763),\n",
       " (0.8515156812487182, 153.78845661359384),\n",
       " (0.8515156812487182, 153.76012977552165),\n",
       " (0.8515156812487182, 153.73180815506944)]"
      ]
     },
     "execution_count": 21,
     "metadata": {},
     "output_type": "execute_result"
    }
   ],
   "source": [
    "ans = [(p[0] - p[1], log_scale_inv(p[2])) for p in points]\n",
    "ans.sort(reverse=True)\n",
    "ans[:10]"
   ]
  }
 ],
 "metadata": {
  "kernelspec": {
   "display_name": "Python 3",
   "language": "python",
   "name": "python3"
  },
  "language_info": {
   "codemirror_mode": {
    "name": "ipython",
    "version": 3
   },
   "file_extension": ".py",
   "mimetype": "text/x-python",
   "name": "python",
   "nbconvert_exporter": "python",
   "pygments_lexer": "ipython3",
   "version": "3.7.4"
  }
 },
 "nbformat": 4,
 "nbformat_minor": 2
}
